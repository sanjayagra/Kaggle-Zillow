{
 "cells": [
  {
   "cell_type": "code",
   "execution_count": 12,
   "metadata": {},
   "outputs": [
    {
     "ename": "ModuleNotFoundError",
     "evalue": "No module named 'xgboost'",
     "output_type": "error",
     "traceback": [
      "\u001b[0;31m---------------------------------------------------------------------------\u001b[0m",
      "\u001b[0;31mModuleNotFoundError\u001b[0m                       Traceback (most recent call last)",
      "\u001b[0;32m<ipython-input-12-5e3e84dfb211>\u001b[0m in \u001b[0;36m<module>\u001b[0;34m()\u001b[0m\n\u001b[1;32m      5\u001b[0m \u001b[0;32mfrom\u001b[0m \u001b[0msklearn\u001b[0m\u001b[0;34m.\u001b[0m\u001b[0mmodel_selection\u001b[0m \u001b[0;32mimport\u001b[0m \u001b[0mtrain_test_split\u001b[0m\u001b[0;34m\u001b[0m\u001b[0m\n\u001b[1;32m      6\u001b[0m \u001b[0;32mfrom\u001b[0m \u001b[0msklearn\u001b[0m\u001b[0;34m.\u001b[0m\u001b[0mmodel_selection\u001b[0m \u001b[0;32mimport\u001b[0m \u001b[0mGridSearchCV\u001b[0m\u001b[0;34m\u001b[0m\u001b[0m\n\u001b[0;32m----> 7\u001b[0;31m \u001b[0;32mimport\u001b[0m \u001b[0mxgboost\u001b[0m \u001b[0;32mas\u001b[0m \u001b[0mxgb\u001b[0m\u001b[0;34m\u001b[0m\u001b[0m\n\u001b[0m",
      "\u001b[0;31mModuleNotFoundError\u001b[0m: No module named 'xgboost'"
     ]
    }
   ],
   "source": [
    "import pandas as pd\n",
    "import numpy as np\n",
    "import lightgbm as lgb\n",
    "from sklearn import preprocessing\n",
    "from sklearn.model_selection import train_test_split\n",
    "from sklearn.model_selection import GridSearchCV\n",
    "import xgboost as xgb"
   ]
  },
  {
   "cell_type": "markdown",
   "metadata": {},
   "source": [
    "## Reading the data"
   ]
  },
  {
   "cell_type": "code",
   "execution_count": 11,
   "metadata": {},
   "outputs": [
    {
     "name": "stderr",
     "output_type": "stream",
     "text": [
      "/Users/sanjayagrawal/anaconda3/lib/python3.6/site-packages/IPython/core/interactiveshell.py:2717: DtypeWarning: Columns (22,32,34,49,55) have mixed types. Specify dtype option on import or set low_memory=False.\n",
      "  interactivity=interactivity, compiler=compiler, result=result)\n"
     ]
    }
   ],
   "source": [
    "path = '/Users/sanjayagrawal/Downloads/Kaggle/zillow/'\n",
    "sample_submission = pd.read_csv(path + 'sample_submission.csv')\n",
    "train_2016_v2 = pd.read_csv(path + 'train_2016_v2.csv')\n",
    "properties_2016 = pd.read_csv(path + 'properties_2016.csv')"
   ]
  },
  {
   "cell_type": "code",
   "execution_count": 3,
   "metadata": {},
   "outputs": [
    {
     "name": "stdout",
     "output_type": "stream",
     "text": [
      "hashottuborspa\n",
      "propertycountylandusecode\n",
      "propertyzoningdesc\n",
      "fireplaceflag\n",
      "taxdelinquencyflag\n"
     ]
    }
   ],
   "source": [
    "for i in properties_2016.columns:\n",
    "    if properties_2016.dtypes[i] == 'object':\n",
    "        print (i)\n",
    "        properties_2016[i] = properties_2016[i].map(lambda x : str(x))\n",
    "        le = preprocessing.LabelEncoder()\n",
    "        properties_2016[i] = le.fit_transform(properties_2016[i])"
   ]
  },
  {
   "cell_type": "code",
   "execution_count": 4,
   "metadata": {
    "collapsed": true
   },
   "outputs": [],
   "source": [
    "sample_submission = pd.melt(sample_submission, id_vars=['ParcelId'], value_vars=['201610', '201611', '201612', '201710', '201711', '201712'])\n",
    "sample_submission = sample_submission.drop('value', axis=1)"
   ]
  },
  {
   "cell_type": "code",
   "execution_count": 5,
   "metadata": {
    "collapsed": true
   },
   "outputs": [],
   "source": [
    "train_2016_v2 = train_2016_v2.rename(columns = {'parcelid':'ParcelId'})\n",
    "properties_2016 = properties_2016.rename(columns = {'parcelid':'ParcelId'})\n",
    "train = train_2016_v2.merge(properties_2016, on='ParcelId', how = 'inner')\n",
    "test = sample_submission.merge(properties_2016, on='ParcelId', how = 'inner')\n",
    "train = train.fillna(-999)\n",
    "test = test.fillna(-999)"
   ]
  },
  {
   "cell_type": "markdown",
   "metadata": {},
   "source": [
    "## Feature Engineering"
   ]
  },
  {
   "cell_type": "code",
   "execution_count": 6,
   "metadata": {
    "collapsed": true
   },
   "outputs": [],
   "source": [
    "import datetime\n",
    "train['month'] = train['transactiondate'].map(lambda x : (datetime.datetime.strptime(x, \"%Y-%m-%d\")).month)\n",
    "test['month'] = test['variable'].map(lambda x : int(x[4:6]))"
   ]
  },
  {
   "cell_type": "code",
   "execution_count": 7,
   "metadata": {},
   "outputs": [
    {
     "name": "stderr",
     "output_type": "stream",
     "text": [
      "/Users/sanjayagrawal/anaconda3/lib/python3.6/site-packages/sklearn/model_selection/_split.py:2010: FutureWarning: From version 0.21, test_size will always complement train_size unless both are specified.\n",
      "  FutureWarning)\n"
     ]
    },
    {
     "name": "stdout",
     "output_type": "stream",
     "text": [
      "(90275, 58) (17911302, 58)\n"
     ]
    }
   ],
   "source": [
    "x = train.drop(['ParcelId', 'logerror', 'transactiondate'], axis=1)\n",
    "y= train['logerror']\n",
    "\n",
    "x_train, y_train, x_vald, y_vald = train_test_split(x, y, train_size=0.80, random_state=1234)\n",
    "\n",
    "x_test = test.drop(['ParcelId', 'variable'], axis=1)\n",
    "print (x.shape, x_test.shape)"
   ]
  },
  {
   "cell_type": "markdown",
   "metadata": {},
   "source": [
    "## LightGBM Model"
   ]
  },
  {
   "cell_type": "code",
   "execution_count": 90,
   "metadata": {
    "collapsed": true
   },
   "outputs": [],
   "source": [
    "params = {\n",
    "    'task': 'train',\n",
    "    'boosting_type': 'gbdt',\n",
    "    'objective': 'regression',\n",
    "    'metric': {'l2', 'auc'},\n",
    "    'num_leaves': 40,\n",
    "    'learning_rate': 0.03,\n",
    "    'feature_fraction': 0.9,\n",
    "    'bagging_fraction': 0.6,\n",
    "    'bagging_freq': 2,\n",
    "    'max_depth' : -1,\n",
    "    'max_bin' : 32,\n",
    "    'verbose': 0\n",
    "}\n",
    "\n",
    "# lgb_train = lgb.Dataset(x_train, x_vald)\n",
    "# lgb_eval = lgb.Dataset(y_train, y_vald, reference=lgb_train)\n",
    "# gbm = lgb.train(params, lgb_train, num_boost_round=500, valid_sets=lgb_eval, early_stopping_rounds=100)"
   ]
  },
  {
   "cell_type": "code",
   "execution_count": 108,
   "metadata": {},
   "outputs": [
    {
     "name": "stdout",
     "output_type": "stream",
     "text": [
      "Best parameters found by grid search are: {'bagging_fraction': 0.6, 'bagging_freq': 2, 'boosting_type': 'gbdt', 'feature_fraction': 0.9, 'learning_rate': 0.03, 'max_bin': 32, 'max_depth': -1, 'metric': {'auc', 'l2'}, 'n_estimators': 40, 'num_leaves': 40, 'objective': 'regression', 'task': 'train', 'verbose': 0}\n"
     ]
    }
   ],
   "source": [
    "estimator = lgb.LGBMRegressor(num_leaves=31)\n",
    "\n",
    "param_grid = {\n",
    "    'learning_rate': [0.03],\n",
    "    'n_estimators': [40],\n",
    "    'feature_fraction': [0.9],\n",
    "    'task': ['train'],\n",
    "    'num_leaves' : [40],\n",
    "    'boosting_type': ['gbdt'],\n",
    "    'objective': ['regression'],\n",
    "    'metric': [{'l2', 'auc'}],\n",
    "    'bagging_fraction': [0.6],\n",
    "    'bagging_freq': [2],\n",
    "    'max_depth' : [-1],\n",
    "    'max_bin' : [32],\n",
    "    'verbose': [0]\n",
    "}\n",
    "\n",
    "gbm = GridSearchCV(estimator, param_grid)\n",
    "gbm.fit(x, y)\n",
    "print('Best parameters found by grid search are:', gbm.best_params_)"
   ]
  },
  {
   "cell_type": "code",
   "execution_count": 107,
   "metadata": {},
   "outputs": [
    {
     "name": "stdout",
     "output_type": "stream",
     "text": [
      "(90275, 49) (17911302, 49)\n"
     ]
    }
   ],
   "source": [
    "# gbm.feature_importance()\n",
    "# k=0\n",
    "# list = []\n",
    "# for i in x.columns:\n",
    "#     if gbm.feature_importance()[k]==0:\n",
    "#         print (i, gbm.feature_importance()[k])\n",
    "#         list.append(i)\n",
    "#     k=k+1\n",
    "\n",
    "# print (list)\n",
    "x = x.drop(list, axis=1)\n",
    "x_test = x_test.drop(list, axis=1)\n",
    "print (x.shape, x_test.shape)"
   ]
  },
  {
   "cell_type": "markdown",
   "metadata": {},
   "source": [
    "## Predictions"
   ]
  },
  {
   "cell_type": "code",
   "execution_count": 109,
   "metadata": {
    "collapsed": true
   },
   "outputs": [],
   "source": [
    "# gbm.save_model('model.txt')\n",
    "y_pred = gbm.predict(x_test)\n",
    "Predicted = test\n",
    "Predicted['pred'] = y_pred"
   ]
  },
  {
   "cell_type": "code",
   "execution_count": 110,
   "metadata": {},
   "outputs": [
    {
     "data": {
      "text/html": [
       "<div>\n",
       "<style>\n",
       "    .dataframe thead tr:only-child th {\n",
       "        text-align: right;\n",
       "    }\n",
       "\n",
       "    .dataframe thead th {\n",
       "        text-align: left;\n",
       "    }\n",
       "\n",
       "    .dataframe tbody tr th {\n",
       "        vertical-align: top;\n",
       "    }\n",
       "</style>\n",
       "<table border=\"1\" class=\"dataframe\">\n",
       "  <thead>\n",
       "    <tr style=\"text-align: right;\">\n",
       "      <th></th>\n",
       "      <th>ParcelId</th>\n",
       "      <th>variable</th>\n",
       "      <th>pred</th>\n",
       "    </tr>\n",
       "  </thead>\n",
       "  <tbody>\n",
       "    <tr>\n",
       "      <th>0</th>\n",
       "      <td>10754147</td>\n",
       "      <td>201610</td>\n",
       "      <td>0.105093</td>\n",
       "    </tr>\n",
       "    <tr>\n",
       "      <th>1</th>\n",
       "      <td>10754147</td>\n",
       "      <td>201611</td>\n",
       "      <td>0.105093</td>\n",
       "    </tr>\n",
       "    <tr>\n",
       "      <th>2</th>\n",
       "      <td>10754147</td>\n",
       "      <td>201612</td>\n",
       "      <td>0.105093</td>\n",
       "    </tr>\n",
       "    <tr>\n",
       "      <th>3</th>\n",
       "      <td>10754147</td>\n",
       "      <td>201710</td>\n",
       "      <td>0.105093</td>\n",
       "    </tr>\n",
       "    <tr>\n",
       "      <th>4</th>\n",
       "      <td>10754147</td>\n",
       "      <td>201711</td>\n",
       "      <td>0.105093</td>\n",
       "    </tr>\n",
       "  </tbody>\n",
       "</table>\n",
       "</div>"
      ],
      "text/plain": [
       "   ParcelId variable      pred\n",
       "0  10754147   201610  0.105093\n",
       "1  10754147   201611  0.105093\n",
       "2  10754147   201612  0.105093\n",
       "3  10754147   201710  0.105093\n",
       "4  10754147   201711  0.105093"
      ]
     },
     "execution_count": 110,
     "metadata": {},
     "output_type": "execute_result"
    }
   ],
   "source": [
    "Predicted = Predicted[['ParcelId', 'variable', 'pred']]\n",
    "Predicted.head()"
   ]
  },
  {
   "cell_type": "code",
   "execution_count": 111,
   "metadata": {
    "collapsed": true
   },
   "outputs": [],
   "source": [
    "Predicted1 = Predicted.pivot(index='ParcelId', columns='variable', values='pred').reset_index()\n",
    "path = '/Users/sanjayagrawal/Downloads/Kaggle/zillow/result/'\n",
    "Predicted1.to_csv(path + 'final12_month.csv', index=False)"
   ]
  },
  {
   "cell_type": "code",
   "execution_count": 112,
   "metadata": {},
   "outputs": [
    {
     "data": {
      "text/html": [
       "<div>\n",
       "<style>\n",
       "    .dataframe thead tr:only-child th {\n",
       "        text-align: right;\n",
       "    }\n",
       "\n",
       "    .dataframe thead th {\n",
       "        text-align: left;\n",
       "    }\n",
       "\n",
       "    .dataframe tbody tr th {\n",
       "        vertical-align: top;\n",
       "    }\n",
       "</style>\n",
       "<table border=\"1\" class=\"dataframe\">\n",
       "  <thead>\n",
       "    <tr style=\"text-align: right;\">\n",
       "      <th>variable</th>\n",
       "      <th>ParcelId</th>\n",
       "      <th>201610</th>\n",
       "      <th>201611</th>\n",
       "      <th>201612</th>\n",
       "      <th>201710</th>\n",
       "      <th>201711</th>\n",
       "      <th>201712</th>\n",
       "    </tr>\n",
       "  </thead>\n",
       "  <tbody>\n",
       "    <tr>\n",
       "      <th>0</th>\n",
       "      <td>10711725</td>\n",
       "      <td>0.009399</td>\n",
       "      <td>0.009399</td>\n",
       "      <td>0.009399</td>\n",
       "      <td>0.009399</td>\n",
       "      <td>0.009399</td>\n",
       "      <td>0.009399</td>\n",
       "    </tr>\n",
       "    <tr>\n",
       "      <th>1</th>\n",
       "      <td>10711726</td>\n",
       "      <td>0.013081</td>\n",
       "      <td>0.013081</td>\n",
       "      <td>0.013081</td>\n",
       "      <td>0.013081</td>\n",
       "      <td>0.013081</td>\n",
       "      <td>0.013081</td>\n",
       "    </tr>\n",
       "    <tr>\n",
       "      <th>2</th>\n",
       "      <td>10711727</td>\n",
       "      <td>0.014499</td>\n",
       "      <td>0.014499</td>\n",
       "      <td>0.014499</td>\n",
       "      <td>0.014499</td>\n",
       "      <td>0.014499</td>\n",
       "      <td>0.014499</td>\n",
       "    </tr>\n",
       "    <tr>\n",
       "      <th>3</th>\n",
       "      <td>10711728</td>\n",
       "      <td>0.013003</td>\n",
       "      <td>0.013003</td>\n",
       "      <td>0.013003</td>\n",
       "      <td>0.013003</td>\n",
       "      <td>0.013003</td>\n",
       "      <td>0.013003</td>\n",
       "    </tr>\n",
       "    <tr>\n",
       "      <th>4</th>\n",
       "      <td>10711729</td>\n",
       "      <td>0.010314</td>\n",
       "      <td>0.010314</td>\n",
       "      <td>0.010314</td>\n",
       "      <td>0.010314</td>\n",
       "      <td>0.010314</td>\n",
       "      <td>0.010314</td>\n",
       "    </tr>\n",
       "  </tbody>\n",
       "</table>\n",
       "</div>"
      ],
      "text/plain": [
       "variable  ParcelId    201610    201611    201612    201710    201711    201712\n",
       "0         10711725  0.009399  0.009399  0.009399  0.009399  0.009399  0.009399\n",
       "1         10711726  0.013081  0.013081  0.013081  0.013081  0.013081  0.013081\n",
       "2         10711727  0.014499  0.014499  0.014499  0.014499  0.014499  0.014499\n",
       "3         10711728  0.013003  0.013003  0.013003  0.013003  0.013003  0.013003\n",
       "4         10711729  0.010314  0.010314  0.010314  0.010314  0.010314  0.010314"
      ]
     },
     "execution_count": 112,
     "metadata": {},
     "output_type": "execute_result"
    }
   ],
   "source": [
    "Predicted1.head()"
   ]
  }
 ],
 "metadata": {
  "kernelspec": {
   "display_name": "Python 3",
   "language": "python",
   "name": "python3"
  },
  "language_info": {
   "codemirror_mode": {
    "name": "ipython",
    "version": 3
   },
   "file_extension": ".py",
   "mimetype": "text/x-python",
   "name": "python",
   "nbconvert_exporter": "python",
   "pygments_lexer": "ipython3",
   "version": "3.6.1"
  }
 },
 "nbformat": 4,
 "nbformat_minor": 2
}
