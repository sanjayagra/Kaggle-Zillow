{
 "cells": [
  {
   "cell_type": "markdown",
   "metadata": {},
   "source": [
    "## zillow data"
   ]
  },
  {
   "cell_type": "code",
   "execution_count": 191,
   "metadata": {
    "collapsed": true
   },
   "outputs": [],
   "source": [
    "import pandas as pd\n",
    "import numpy as np\n",
    "import lightgbm as lgb"
   ]
  },
  {
   "cell_type": "code",
   "execution_count": 210,
   "metadata": {},
   "outputs": [
    {
     "name": "stderr",
     "output_type": "stream",
     "text": [
      "/Users/sanjayagrawal/anaconda3/lib/python3.6/site-packages/IPython/core/interactiveshell.py:2717: DtypeWarning: Columns (22,32,34,49,55) have mixed types. Specify dtype option on import or set low_memory=False.\n",
      "  interactivity=interactivity, compiler=compiler, result=result)\n"
     ]
    }
   ],
   "source": [
    "path = '/Users/sanjayagrawal/Downloads/Kaggle/zillow/'\n",
    "sample_submission = pd.read_csv(path + 'sample_submission.csv')\n",
    "train_2016_v2 = pd.read_csv(path + 'train_2016_v2.csv')\n",
    "properties_2016 = pd.read_csv(path + 'properties_2016.csv')"
   ]
  },
  {
   "cell_type": "code",
   "execution_count": 211,
   "metadata": {},
   "outputs": [
    {
     "name": "stdout",
     "output_type": "stream",
     "text": [
      "hashottuborspa\n",
      "propertycountylandusecode\n",
      "propertyzoningdesc\n",
      "fireplaceflag\n",
      "taxdelinquencyflag\n"
     ]
    }
   ],
   "source": [
    "for i in properties_2016.columns:\n",
    "    if properties_2016.dtypes[i] == 'object':\n",
    "        print (i)\n",
    "        properties_2016[i] = properties_2016[i].map(lambda x : str(x))\n",
    "        le = preprocessing.LabelEncoder()\n",
    "        properties_2016[i] = le.fit_transform(properties_2016[i])"
   ]
  },
  {
   "cell_type": "code",
   "execution_count": 212,
   "metadata": {
    "collapsed": true
   },
   "outputs": [],
   "source": [
    "train_2016_v2 = train_2016_v2.rename(columns = {'parcelid':'ParcelId'})\n",
    "properties_2016 = properties_2016.rename(columns = {'parcelid':'ParcelId'})\n",
    "train = train_2016_v2.merge(properties_2016, on='ParcelId', how = 'inner')\n",
    "test = sample_submission.merge(properties_2016, on='ParcelId', how = 'inner')"
   ]
  },
  {
   "cell_type": "code",
   "execution_count": 213,
   "metadata": {
    "collapsed": true
   },
   "outputs": [],
   "source": [
    "# for i in train.columns:\n",
    "#     if train[i].isnull().sum() > 50000:\n",
    "#         train = train.drop(i, axis=1)\n",
    "#         test = test.drop(i, axis=1)\n",
    "        \n",
    "train = train.fillna(-999)\n",
    "test = test.fillna(-999)"
   ]
  },
  {
   "cell_type": "markdown",
   "metadata": {},
   "source": [
    "## Data Split with sklearn"
   ]
  },
  {
   "cell_type": "code",
   "execution_count": 327,
   "metadata": {},
   "outputs": [
    {
     "name": "stdout",
     "output_type": "stream",
     "text": [
      "(90275, 57) (2985217, 0)\n"
     ]
    },
    {
     "name": "stderr",
     "output_type": "stream",
     "text": [
      "/Users/sanjayagrawal/anaconda3/lib/python3.6/site-packages/sklearn/model_selection/_split.py:2010: FutureWarning: From version 0.21, test_size will always complement train_size unless both are specified.\n",
      "  FutureWarning)\n"
     ]
    }
   ],
   "source": [
    "from sklearn import preprocessing\n",
    "from sklearn.model_selection import train_test_split\n",
    "x = train.drop(['ParcelId', 'logerror', 'transactiondate'], axis=1)\n",
    "y= train['logerror']\n",
    "\n",
    "x_train, y_train, x_vald, y_vald = train_test_split(x, y, train_size=0.80, random_state=1234)\n",
    "\n",
    "x_test = test.drop(['ParcelId', '201610', '201611', '201612', '201710', '201711', '201712'], axis=1)\n",
    "print (x.shape, x_test.shape)"
   ]
  },
  {
   "cell_type": "markdown",
   "metadata": {},
   "source": [
    "## LightGBM model"
   ]
  },
  {
   "cell_type": "code",
   "execution_count": 336,
   "metadata": {},
   "outputs": [],
   "source": [
    "params = {\n",
    "    'task': 'train',\n",
    "    'boosting_type': 'gbdt',\n",
    "    'objective': 'regression',\n",
    "    'metric': {'l2', 'auc'},\n",
    "    'num_leaves': 40,\n",
    "    'learning_rate': 0.03,\n",
    "    'feature_fraction': 0.9,\n",
    "    'bagging_fraction': 0.6,\n",
    "    'bagging_freq': 2,\n",
    "    'max_depth' : -1,\n",
    "    'max_bin' : 32,\n",
    "    'verbose': 0\n",
    "}"
   ]
  },
  {
   "cell_type": "code",
   "execution_count": 330,
   "metadata": {},
   "outputs": [],
   "source": [
    "estimator = lgb.LGBMRegressor(num_leaves=31)\n",
    "\n",
    "param_grid = {\n",
    "    'learning_rate': [0.03],\n",
    "    'n_estimators': [40],\n",
    "    'feature_fraction': [0.9],\n",
    "    'task': ['train'],\n",
    "    'num_leaves' : [40],\n",
    "    'boosting_type': ['gbdt'],\n",
    "    'objective': ['regression'],\n",
    "    'metric': [{'l2', 'auc'}],\n",
    "    'bagging_fraction': [0.6],\n",
    "    'bagging_freq': [2],\n",
    "    'max_depth' : [-1],\n",
    "    'max_bin' : [32],\n",
    "    'verbose': [0]\n",
    "}\n",
    "\n",
    "gbm = GridSearchCV(estimator, param_grid)\n",
    "gbm.fit(x, y)\n",
    "print('Best parameters found by grid search are:', gbm.best_params_)"
   ]
  },
  {
   "cell_type": "code",
   "execution_count": null,
   "metadata": {
    "collapsed": true
   },
   "outputs": [],
   "source": [
    "(boosting_type=’gbdt’, num_leaves=31, max_depth=-1, learning_rate=0.1,\n",
    "n_estimators=10, max_bin=255, subsample_for_bin=50000,\n",
    "objective=None, min_split_gain=0,\n",
    "min_child_weight=5, min_child_samples=10, subsample=1, subsample_freq=1,\n",
    "colsample_bytree=1, reg_alpha=0, reg_lambda=0,\n",
    "random_state=0, n_jobs=-1, silent=True, **kwargs)"
   ]
  },
  {
   "cell_type": "code",
   "execution_count": 341,
   "metadata": {},
   "outputs": [
    {
     "name": "stdout",
     "output_type": "stream",
     "text": [
      "[1]\tvalid_0's l2: 0.0247161\tvalid_0's auc: 0.533086\n",
      "Training until validation scores don't improve for 100 rounds.\n",
      "[2]\tvalid_0's l2: 0.0247038\tvalid_0's auc: 0.534779\n",
      "[3]\tvalid_0's l2: 0.0246867\tvalid_0's auc: 0.535393\n",
      "[4]\tvalid_0's l2: 0.0246714\tvalid_0's auc: 0.538159\n",
      "[5]\tvalid_0's l2: 0.0246528\tvalid_0's auc: 0.549253\n",
      "[6]\tvalid_0's l2: 0.0246366\tvalid_0's auc: 0.553866\n",
      "[7]\tvalid_0's l2: 0.0246206\tvalid_0's auc: 0.55402\n",
      "[8]\tvalid_0's l2: 0.024609\tvalid_0's auc: 0.555034\n",
      "[9]\tvalid_0's l2: 0.024597\tvalid_0's auc: 0.556266\n",
      "[10]\tvalid_0's l2: 0.0245892\tvalid_0's auc: 0.556195\n",
      "[11]\tvalid_0's l2: 0.0245725\tvalid_0's auc: 0.558585\n",
      "[12]\tvalid_0's l2: 0.0245565\tvalid_0's auc: 0.559095\n",
      "[13]\tvalid_0's l2: 0.0245506\tvalid_0's auc: 0.559434\n",
      "[14]\tvalid_0's l2: 0.0245481\tvalid_0's auc: 0.559104\n",
      "[15]\tvalid_0's l2: 0.02454\tvalid_0's auc: 0.558936\n",
      "[16]\tvalid_0's l2: 0.0245291\tvalid_0's auc: 0.559475\n",
      "[17]\tvalid_0's l2: 0.0245215\tvalid_0's auc: 0.560385\n",
      "[18]\tvalid_0's l2: 0.0245147\tvalid_0's auc: 0.561028\n",
      "[19]\tvalid_0's l2: 0.0245103\tvalid_0's auc: 0.560881\n",
      "[20]\tvalid_0's l2: 0.0245023\tvalid_0's auc: 0.561691\n",
      "[21]\tvalid_0's l2: 0.0244938\tvalid_0's auc: 0.562071\n",
      "[22]\tvalid_0's l2: 0.024492\tvalid_0's auc: 0.562323\n",
      "[23]\tvalid_0's l2: 0.0244902\tvalid_0's auc: 0.561107\n",
      "[24]\tvalid_0's l2: 0.0244888\tvalid_0's auc: 0.560284\n",
      "[25]\tvalid_0's l2: 0.024488\tvalid_0's auc: 0.560539\n",
      "[26]\tvalid_0's l2: 0.024484\tvalid_0's auc: 0.560405\n",
      "[27]\tvalid_0's l2: 0.0244877\tvalid_0's auc: 0.560937\n",
      "[28]\tvalid_0's l2: 0.0244847\tvalid_0's auc: 0.560844\n",
      "[29]\tvalid_0's l2: 0.0244808\tvalid_0's auc: 0.560889\n",
      "[30]\tvalid_0's l2: 0.0244783\tvalid_0's auc: 0.560646\n",
      "[31]\tvalid_0's l2: 0.0244752\tvalid_0's auc: 0.560944\n",
      "[32]\tvalid_0's l2: 0.024473\tvalid_0's auc: 0.560774\n",
      "[33]\tvalid_0's l2: 0.0244731\tvalid_0's auc: 0.56067\n",
      "[34]\tvalid_0's l2: 0.024471\tvalid_0's auc: 0.561123\n",
      "[35]\tvalid_0's l2: 0.024468\tvalid_0's auc: 0.561643\n",
      "[36]\tvalid_0's l2: 0.0244668\tvalid_0's auc: 0.561924\n",
      "[37]\tvalid_0's l2: 0.0244613\tvalid_0's auc: 0.562392\n",
      "[38]\tvalid_0's l2: 0.0244639\tvalid_0's auc: 0.562731\n",
      "[39]\tvalid_0's l2: 0.0244623\tvalid_0's auc: 0.562985\n",
      "[40]\tvalid_0's l2: 0.0244573\tvalid_0's auc: 0.562954\n",
      "[41]\tvalid_0's l2: 0.0244523\tvalid_0's auc: 0.562823\n",
      "[42]\tvalid_0's l2: 0.0244491\tvalid_0's auc: 0.562496\n",
      "[43]\tvalid_0's l2: 0.0244472\tvalid_0's auc: 0.562651\n",
      "[44]\tvalid_0's l2: 0.0244462\tvalid_0's auc: 0.562769\n",
      "[45]\tvalid_0's l2: 0.0244408\tvalid_0's auc: 0.563098\n",
      "[46]\tvalid_0's l2: 0.0244388\tvalid_0's auc: 0.562946\n",
      "[47]\tvalid_0's l2: 0.0244335\tvalid_0's auc: 0.563459\n",
      "[48]\tvalid_0's l2: 0.024431\tvalid_0's auc: 0.563651\n",
      "[49]\tvalid_0's l2: 0.0244295\tvalid_0's auc: 0.563511\n",
      "[50]\tvalid_0's l2: 0.0244301\tvalid_0's auc: 0.563289\n",
      "[51]\tvalid_0's l2: 0.0244306\tvalid_0's auc: 0.563538\n",
      "[52]\tvalid_0's l2: 0.0244299\tvalid_0's auc: 0.56354\n",
      "[53]\tvalid_0's l2: 0.0244285\tvalid_0's auc: 0.563791\n",
      "[54]\tvalid_0's l2: 0.0244268\tvalid_0's auc: 0.564162\n",
      "[55]\tvalid_0's l2: 0.0244247\tvalid_0's auc: 0.564503\n",
      "[56]\tvalid_0's l2: 0.0244238\tvalid_0's auc: 0.564773\n",
      "[57]\tvalid_0's l2: 0.0244228\tvalid_0's auc: 0.564856\n",
      "[58]\tvalid_0's l2: 0.0244232\tvalid_0's auc: 0.564843\n",
      "[59]\tvalid_0's l2: 0.0244229\tvalid_0's auc: 0.565238\n",
      "[60]\tvalid_0's l2: 0.0244252\tvalid_0's auc: 0.565043\n",
      "[61]\tvalid_0's l2: 0.0244259\tvalid_0's auc: 0.565549\n",
      "[62]\tvalid_0's l2: 0.0244256\tvalid_0's auc: 0.565269\n",
      "[63]\tvalid_0's l2: 0.0244311\tvalid_0's auc: 0.56496\n",
      "[64]\tvalid_0's l2: 0.0244281\tvalid_0's auc: 0.564955\n",
      "[65]\tvalid_0's l2: 0.0244295\tvalid_0's auc: 0.565531\n",
      "[66]\tvalid_0's l2: 0.0244317\tvalid_0's auc: 0.56591\n",
      "[67]\tvalid_0's l2: 0.0244298\tvalid_0's auc: 0.56652\n",
      "[68]\tvalid_0's l2: 0.024428\tvalid_0's auc: 0.566831\n",
      "[69]\tvalid_0's l2: 0.0244286\tvalid_0's auc: 0.566525\n",
      "[70]\tvalid_0's l2: 0.0244282\tvalid_0's auc: 0.566645\n",
      "[71]\tvalid_0's l2: 0.0244236\tvalid_0's auc: 0.566547\n",
      "[72]\tvalid_0's l2: 0.0244191\tvalid_0's auc: 0.566576\n",
      "[73]\tvalid_0's l2: 0.0244163\tvalid_0's auc: 0.566758\n",
      "[74]\tvalid_0's l2: 0.024413\tvalid_0's auc: 0.566656\n",
      "[75]\tvalid_0's l2: 0.0244063\tvalid_0's auc: 0.566903\n",
      "[76]\tvalid_0's l2: 0.024402\tvalid_0's auc: 0.566564\n",
      "[77]\tvalid_0's l2: 0.0244016\tvalid_0's auc: 0.566638\n",
      "[78]\tvalid_0's l2: 0.0244005\tvalid_0's auc: 0.566549\n",
      "[79]\tvalid_0's l2: 0.0243989\tvalid_0's auc: 0.566836\n",
      "[80]\tvalid_0's l2: 0.0244026\tvalid_0's auc: 0.566847\n",
      "[81]\tvalid_0's l2: 0.0244035\tvalid_0's auc: 0.566965\n",
      "[82]\tvalid_0's l2: 0.024403\tvalid_0's auc: 0.567239\n",
      "[83]\tvalid_0's l2: 0.0244026\tvalid_0's auc: 0.56742\n",
      "[84]\tvalid_0's l2: 0.0244016\tvalid_0's auc: 0.567441\n",
      "[85]\tvalid_0's l2: 0.0244048\tvalid_0's auc: 0.567446\n",
      "[86]\tvalid_0's l2: 0.0244098\tvalid_0's auc: 0.567218\n",
      "[87]\tvalid_0's l2: 0.0244106\tvalid_0's auc: 0.567311\n",
      "[88]\tvalid_0's l2: 0.0244135\tvalid_0's auc: 0.567385\n",
      "[89]\tvalid_0's l2: 0.0244124\tvalid_0's auc: 0.567193\n",
      "[90]\tvalid_0's l2: 0.024412\tvalid_0's auc: 0.567002\n",
      "[91]\tvalid_0's l2: 0.0244109\tvalid_0's auc: 0.567199\n",
      "[92]\tvalid_0's l2: 0.024406\tvalid_0's auc: 0.567238\n",
      "[93]\tvalid_0's l2: 0.0244082\tvalid_0's auc: 0.5671\n",
      "[94]\tvalid_0's l2: 0.0244102\tvalid_0's auc: 0.567133\n",
      "[95]\tvalid_0's l2: 0.0244094\tvalid_0's auc: 0.56725\n",
      "[96]\tvalid_0's l2: 0.0244099\tvalid_0's auc: 0.567259\n",
      "[97]\tvalid_0's l2: 0.0244064\tvalid_0's auc: 0.567287\n",
      "[98]\tvalid_0's l2: 0.0244033\tvalid_0's auc: 0.567711\n",
      "[99]\tvalid_0's l2: 0.0244003\tvalid_0's auc: 0.567588\n",
      "[100]\tvalid_0's l2: 0.024399\tvalid_0's auc: 0.567394\n",
      "[101]\tvalid_0's l2: 0.0243954\tvalid_0's auc: 0.567307\n",
      "[102]\tvalid_0's l2: 0.0243962\tvalid_0's auc: 0.567328\n",
      "[103]\tvalid_0's l2: 0.0243978\tvalid_0's auc: 0.567106\n",
      "[104]\tvalid_0's l2: 0.0244001\tvalid_0's auc: 0.566919\n",
      "[105]\tvalid_0's l2: 0.0244004\tvalid_0's auc: 0.566954\n",
      "[106]\tvalid_0's l2: 0.0244013\tvalid_0's auc: 0.566956\n",
      "[107]\tvalid_0's l2: 0.0243993\tvalid_0's auc: 0.566801\n",
      "[108]\tvalid_0's l2: 0.0243971\tvalid_0's auc: 0.566799\n",
      "[109]\tvalid_0's l2: 0.0243927\tvalid_0's auc: 0.566992\n",
      "[110]\tvalid_0's l2: 0.0243924\tvalid_0's auc: 0.567167\n",
      "[111]\tvalid_0's l2: 0.024395\tvalid_0's auc: 0.567048\n",
      "[112]\tvalid_0's l2: 0.0243969\tvalid_0's auc: 0.567084\n",
      "[113]\tvalid_0's l2: 0.0243952\tvalid_0's auc: 0.567281\n",
      "[114]\tvalid_0's l2: 0.0243926\tvalid_0's auc: 0.567298\n",
      "[115]\tvalid_0's l2: 0.0243945\tvalid_0's auc: 0.567342\n",
      "[116]\tvalid_0's l2: 0.0243964\tvalid_0's auc: 0.567456\n",
      "[117]\tvalid_0's l2: 0.0243956\tvalid_0's auc: 0.567432\n",
      "[118]\tvalid_0's l2: 0.0243917\tvalid_0's auc: 0.567491\n",
      "[119]\tvalid_0's l2: 0.0243908\tvalid_0's auc: 0.567501\n",
      "[120]\tvalid_0's l2: 0.0243898\tvalid_0's auc: 0.567412\n",
      "[121]\tvalid_0's l2: 0.0243909\tvalid_0's auc: 0.567451\n",
      "[122]\tvalid_0's l2: 0.0243936\tvalid_0's auc: 0.567365\n",
      "[123]\tvalid_0's l2: 0.0243991\tvalid_0's auc: 0.567424\n",
      "[124]\tvalid_0's l2: 0.0244015\tvalid_0's auc: 0.567379\n",
      "[125]\tvalid_0's l2: 0.024398\tvalid_0's auc: 0.567446\n",
      "[126]\tvalid_0's l2: 0.0243978\tvalid_0's auc: 0.567613\n",
      "[127]\tvalid_0's l2: 0.0243973\tvalid_0's auc: 0.56788\n",
      "[128]\tvalid_0's l2: 0.0243981\tvalid_0's auc: 0.56814\n",
      "[129]\tvalid_0's l2: 0.0243978\tvalid_0's auc: 0.5679\n",
      "[130]\tvalid_0's l2: 0.0244013\tvalid_0's auc: 0.56792\n",
      "[131]\tvalid_0's l2: 0.0244022\tvalid_0's auc: 0.568096\n",
      "[132]\tvalid_0's l2: 0.0244046\tvalid_0's auc: 0.567955\n",
      "[133]\tvalid_0's l2: 0.024408\tvalid_0's auc: 0.567864\n",
      "[134]\tvalid_0's l2: 0.024408\tvalid_0's auc: 0.56786\n",
      "[135]\tvalid_0's l2: 0.0244096\tvalid_0's auc: 0.567939\n",
      "[136]\tvalid_0's l2: 0.0244157\tvalid_0's auc: 0.567749\n",
      "[137]\tvalid_0's l2: 0.0244152\tvalid_0's auc: 0.567745\n",
      "[138]\tvalid_0's l2: 0.0244151\tvalid_0's auc: 0.567833\n",
      "[139]\tvalid_0's l2: 0.0244164\tvalid_0's auc: 0.567978\n",
      "[140]\tvalid_0's l2: 0.0244155\tvalid_0's auc: 0.568142\n",
      "[141]\tvalid_0's l2: 0.0244195\tvalid_0's auc: 0.56814\n",
      "[142]\tvalid_0's l2: 0.0244206\tvalid_0's auc: 0.568554\n",
      "[143]\tvalid_0's l2: 0.0244184\tvalid_0's auc: 0.56851\n",
      "[144]\tvalid_0's l2: 0.0244189\tvalid_0's auc: 0.568584\n",
      "[145]\tvalid_0's l2: 0.0244179\tvalid_0's auc: 0.568864\n",
      "[146]\tvalid_0's l2: 0.0244188\tvalid_0's auc: 0.56897\n",
      "[147]\tvalid_0's l2: 0.0244202\tvalid_0's auc: 0.569026\n",
      "[148]\tvalid_0's l2: 0.0244222\tvalid_0's auc: 0.568875\n",
      "[149]\tvalid_0's l2: 0.0244213\tvalid_0's auc: 0.569069\n",
      "[150]\tvalid_0's l2: 0.0244222\tvalid_0's auc: 0.569102\n",
      "[151]\tvalid_0's l2: 0.0244243\tvalid_0's auc: 0.569269\n",
      "[152]\tvalid_0's l2: 0.0244264\tvalid_0's auc: 0.569111\n",
      "[153]\tvalid_0's l2: 0.0244282\tvalid_0's auc: 0.569188\n",
      "[154]\tvalid_0's l2: 0.0244282\tvalid_0's auc: 0.569067\n",
      "[155]\tvalid_0's l2: 0.0244281\tvalid_0's auc: 0.569035\n",
      "[156]\tvalid_0's l2: 0.0244272\tvalid_0's auc: 0.568867\n",
      "[157]\tvalid_0's l2: 0.024425\tvalid_0's auc: 0.56911\n",
      "[158]\tvalid_0's l2: 0.0244239\tvalid_0's auc: 0.569242\n",
      "[159]\tvalid_0's l2: 0.0244194\tvalid_0's auc: 0.569364\n",
      "[160]\tvalid_0's l2: 0.0244156\tvalid_0's auc: 0.569535\n",
      "[161]\tvalid_0's l2: 0.0244181\tvalid_0's auc: 0.56944\n"
     ]
    },
    {
     "name": "stdout",
     "output_type": "stream",
     "text": [
      "[162]\tvalid_0's l2: 0.0244218\tvalid_0's auc: 0.569458\n",
      "[163]\tvalid_0's l2: 0.0244224\tvalid_0's auc: 0.569409\n",
      "[164]\tvalid_0's l2: 0.0244274\tvalid_0's auc: 0.569186\n",
      "[165]\tvalid_0's l2: 0.0244254\tvalid_0's auc: 0.56916\n",
      "[166]\tvalid_0's l2: 0.0244244\tvalid_0's auc: 0.569255\n",
      "[167]\tvalid_0's l2: 0.0244225\tvalid_0's auc: 0.569284\n",
      "[168]\tvalid_0's l2: 0.0244209\tvalid_0's auc: 0.569257\n",
      "[169]\tvalid_0's l2: 0.0244211\tvalid_0's auc: 0.569455\n",
      "[170]\tvalid_0's l2: 0.0244231\tvalid_0's auc: 0.569413\n",
      "[171]\tvalid_0's l2: 0.0244239\tvalid_0's auc: 0.569359\n",
      "[172]\tvalid_0's l2: 0.0244268\tvalid_0's auc: 0.569404\n",
      "[173]\tvalid_0's l2: 0.0244292\tvalid_0's auc: 0.569373\n",
      "[174]\tvalid_0's l2: 0.0244318\tvalid_0's auc: 0.569494\n",
      "[175]\tvalid_0's l2: 0.0244276\tvalid_0's auc: 0.569561\n",
      "[176]\tvalid_0's l2: 0.0244267\tvalid_0's auc: 0.569704\n",
      "[177]\tvalid_0's l2: 0.0244263\tvalid_0's auc: 0.569593\n",
      "[178]\tvalid_0's l2: 0.0244262\tvalid_0's auc: 0.56984\n",
      "[179]\tvalid_0's l2: 0.024427\tvalid_0's auc: 0.56969\n",
      "[180]\tvalid_0's l2: 0.0244273\tvalid_0's auc: 0.569647\n",
      "[181]\tvalid_0's l2: 0.024428\tvalid_0's auc: 0.569706\n",
      "[182]\tvalid_0's l2: 0.0244289\tvalid_0's auc: 0.569783\n",
      "[183]\tvalid_0's l2: 0.0244304\tvalid_0's auc: 0.569662\n",
      "[184]\tvalid_0's l2: 0.0244335\tvalid_0's auc: 0.569665\n",
      "[185]\tvalid_0's l2: 0.0244333\tvalid_0's auc: 0.569685\n",
      "[186]\tvalid_0's l2: 0.0244353\tvalid_0's auc: 0.569827\n",
      "[187]\tvalid_0's l2: 0.0244323\tvalid_0's auc: 0.569805\n",
      "[188]\tvalid_0's l2: 0.0244332\tvalid_0's auc: 0.569587\n",
      "[189]\tvalid_0's l2: 0.0244295\tvalid_0's auc: 0.569576\n",
      "[190]\tvalid_0's l2: 0.024429\tvalid_0's auc: 0.569575\n",
      "[191]\tvalid_0's l2: 0.0244296\tvalid_0's auc: 0.569609\n",
      "[192]\tvalid_0's l2: 0.0244306\tvalid_0's auc: 0.569703\n",
      "[193]\tvalid_0's l2: 0.0244293\tvalid_0's auc: 0.56975\n",
      "[194]\tvalid_0's l2: 0.0244293\tvalid_0's auc: 0.569397\n",
      "[195]\tvalid_0's l2: 0.0244323\tvalid_0's auc: 0.569497\n",
      "[196]\tvalid_0's l2: 0.0244384\tvalid_0's auc: 0.569388\n",
      "[197]\tvalid_0's l2: 0.0244397\tvalid_0's auc: 0.569299\n",
      "[198]\tvalid_0's l2: 0.0244442\tvalid_0's auc: 0.569269\n",
      "[199]\tvalid_0's l2: 0.0244451\tvalid_0's auc: 0.569347\n",
      "[200]\tvalid_0's l2: 0.0244454\tvalid_0's auc: 0.569423\n",
      "[201]\tvalid_0's l2: 0.0244464\tvalid_0's auc: 0.569541\n",
      "[202]\tvalid_0's l2: 0.0244459\tvalid_0's auc: 0.569472\n",
      "[203]\tvalid_0's l2: 0.0244488\tvalid_0's auc: 0.569229\n",
      "[204]\tvalid_0's l2: 0.0244502\tvalid_0's auc: 0.56916\n",
      "[205]\tvalid_0's l2: 0.0244522\tvalid_0's auc: 0.569067\n",
      "[206]\tvalid_0's l2: 0.0244525\tvalid_0's auc: 0.569039\n",
      "[207]\tvalid_0's l2: 0.0244539\tvalid_0's auc: 0.569021\n",
      "[208]\tvalid_0's l2: 0.0244518\tvalid_0's auc: 0.568924\n",
      "[209]\tvalid_0's l2: 0.0244534\tvalid_0's auc: 0.56894\n",
      "[210]\tvalid_0's l2: 0.0244511\tvalid_0's auc: 0.568876\n",
      "[211]\tvalid_0's l2: 0.0244513\tvalid_0's auc: 0.568815\n",
      "[212]\tvalid_0's l2: 0.0244525\tvalid_0's auc: 0.568755\n",
      "[213]\tvalid_0's l2: 0.0244549\tvalid_0's auc: 0.568797\n",
      "[214]\tvalid_0's l2: 0.0244558\tvalid_0's auc: 0.568807\n",
      "[215]\tvalid_0's l2: 0.0244577\tvalid_0's auc: 0.568887\n",
      "[216]\tvalid_0's l2: 0.0244599\tvalid_0's auc: 0.568852\n",
      "[217]\tvalid_0's l2: 0.0244589\tvalid_0's auc: 0.569074\n",
      "[218]\tvalid_0's l2: 0.0244571\tvalid_0's auc: 0.569168\n",
      "[219]\tvalid_0's l2: 0.0244566\tvalid_0's auc: 0.569128\n",
      "[220]\tvalid_0's l2: 0.0244552\tvalid_0's auc: 0.568994\n",
      "Early stopping, best iteration is:\n",
      "[120]\tvalid_0's l2: 0.0243898\tvalid_0's auc: 0.567412\n"
     ]
    }
   ],
   "source": [
    "lgb_train = lgb.Dataset(x_train, x_vald)\n",
    "lgb_eval = lgb.Dataset(y_train, y_vald, reference=lgb_train)\n",
    "gbm = lgb.train(params, lgb_train, num_boost_round=500, valid_sets=lgb_eval, early_stopping_rounds=100)"
   ]
  },
  {
   "cell_type": "code",
   "execution_count": 233,
   "metadata": {},
   "outputs": [],
   "source": [
    "# categorical_feature=[list(x).index(catFeature) for catFeature in x]\n",
    "# categorical_feature"
   ]
  },
  {
   "cell_type": "markdown",
   "metadata": {},
   "source": [
    "## Predictions"
   ]
  },
  {
   "cell_type": "code",
   "execution_count": 342,
   "metadata": {},
   "outputs": [],
   "source": [
    "# gbm.save_model('model.txt')\n",
    "y_pred = gbm.predict(x_test)\n",
    "test['pred'] = y_pred"
   ]
  },
  {
   "cell_type": "code",
   "execution_count": 343,
   "metadata": {
    "collapsed": true
   },
   "outputs": [],
   "source": [
    "test['201610'] = test['pred'].map(lambda x : x)\n",
    "test['201611'] = test['pred'].map(lambda x : x)\n",
    "test['201612'] = test['pred'].map(lambda x : x)\n",
    "test['201710'] = test['pred'].map(lambda x : x)\n",
    "test['201711'] = test['pred'].map(lambda x : x)\n",
    "test['201712'] = test['pred'].map(lambda x : x)\n",
    "test = test[['ParcelId', '201610', '201611', '201612', '201710', '201711', '201712']]"
   ]
  },
  {
   "cell_type": "code",
   "execution_count": 344,
   "metadata": {
    "collapsed": true
   },
   "outputs": [],
   "source": [
    "test.to_csv('./final10.csv', index=False)"
   ]
  },
  {
   "cell_type": "code",
   "execution_count": null,
   "metadata": {},
   "outputs": [],
   "source": [
    "test.head()"
   ]
  }
 ],
 "metadata": {
  "kernelspec": {
   "display_name": "Python 3",
   "language": "python",
   "name": "python3"
  },
  "language_info": {
   "codemirror_mode": {
    "name": "ipython",
    "version": 3
   },
   "file_extension": ".py",
   "mimetype": "text/x-python",
   "name": "python",
   "nbconvert_exporter": "python",
   "pygments_lexer": "ipython3",
   "version": "3.6.1"
  }
 },
 "nbformat": 4,
 "nbformat_minor": 2
}
